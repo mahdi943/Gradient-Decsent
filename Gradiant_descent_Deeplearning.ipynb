
    {
      "cell_type": "code",
      "metadata": {
        "id": "ceYEy55xrTRG"
      },
      "source": [
        "%matplotlib inline\n",
        "\n",
        "#imports\n",
        "from numpy import *\n",
        "import matplotlib.pyplot as plt\n",
        "from sklearn.metrics import mean_squared_error"
      ],
      "execution_count": null,
      "outputs": []
    },
    {
      "cell_type": "markdown",
      "metadata": {
        "id": "jfHLtPZIrTRK"
      },
      "source": [
        "#### Initializing  hyperparameters and  variables"
      ]
    },
    {
      "cell_type": "code",
      "metadata": {
        "id": "5qzLIXQQrTRM"
      },
      "source": [
        "#hyperparameters\n",
        "#you may try learning rate: 0.1, 0.01, ..., 1o^(-7)\n",
        "learning_rate = 0.000001\n",
        "num_iterations = 100000\n",
        "\n",
        "initial_b = 0\n",
        "initial_a = 0  \n",
        "random.seed(37)"
      ],
      "execution_count": null,
      "outputs": []
    },
    {
      "cell_type": "markdown",
      "metadata": {
        "collapsed": true,
        "id": "zlDYtFgvrTRN"
      },
      "source": [
        "#### Generate the data"
      ]
    },
    {
      "cell_type": "code",
      "metadata": {
        "id": "FL2akc37rTRO"
      },
      "source": [
        "#Generate some data with a known linear relationship - do not change this\n",
        "\n",
        "sample_size = 100\n",
        "#get 100 points in the given range\n",
        "x = random.randint(0,1000,sample_size)\n",
        "\n",
        "#Lets define a sample regression function y = ax+b \n",
        "#Here a = 2, b = 50 . In NN notation, a is w1 and b is w0.\n",
        "\n",
        "y = 2*x + 50 + 20*(random.rand(sample_size)-0.5)\n",
        "\n",
        "points_data = vstack((x, y)).T"
      ],
      "execution_count": null,
      "outputs": []
    },
    {
      "cell_type": "code",
      "metadata": {
        "id": "Rl7UrJ5SapFy",
        "colab": {
          "base_uri": "https://localhost:8080/",
          "height": 295
        },
        "outputId": "f21c0381-a647-4fe1-ce49-4d7658ec237c"
      },
      "source": [
        "#Plot the data \n",
        "plt.scatter(x,y)\n",
        "plt.xlabel('Ad Budget')\n",
        "plt.ylabel('Sales')\n",
        "plt.title('Dataset')\n",
        "plt.show()"
      ],
      "execution_count": null,
      "outputs": [
        {
          "output_type": "display_data",
          "data": {
            "text/plain": [
              "<Figure size 432x288 with 1 Axes>"
            ],
            "image/png": "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\n"
          },
          "metadata": {
            "needs_background": "light"
          }
        }
      ]
    },
    {
      "cell_type": "markdown",
      "metadata": {
        "id": "PotK7gfOrTRY"
      },
      "source": [
        "#### Define cost function"
      ]
    },
    {
      "cell_type": "markdown",
      "metadata": {
        "id": "81lmwQOVVqI-"
      },
      "source": [
        "##1) Use Scikit-Learn for a solution\n",
        "This is the simplest approach with a line of library function call - search for it (``scikit regression`` etc) \n"
      ]
    },
    {
      "cell_type": "code",
      "metadata": {
        "id": "uT0fHr-lVpL4",
        "colab": {
          "base_uri": "https://localhost:8080/"
        },
        "outputId": "612e5af1-f307-4f32-996c-3687b56693e8"
      },
      "source": [
        "from sklearn.linear_model import LinearRegression\n",
        "\n",
        "reg = LinearRegression().fit(x.reshape(-1, 1),y)\n",
        "reg.coef_, reg.intercept_"
      ],
      "execution_count": null,
      "outputs": [
        {
          "output_type": "execute_result",
          "data": {
            "text/plain": [
              "(array([2.00015719]), 50.26832135249606)"
            ]
          },
          "metadata": {},
          "execution_count": 133
        }
      ]
    },
    {
      "cell_type": "markdown",
      "metadata": {
        "id": "831Z8LsAV791"
      },
      "source": [
        "##2) The manually calculated Pseudo-Inverse solution (just to see)\n",
        "\n",
        "\n",
        "\n"
      ]
    },
    {
      "cell_type": "code",
      "metadata": {
        "id": "BNVuMtU6V6tB",
        "colab": {
          "base_uri": "https://localhost:8080/"
        },
        "outputId": "fd8e043e-daf5-41fb-fe6c-db0d81ecc47d"
      },
      "source": [
        "#Form the X matrix\n",
        "X = ones((sample_size,2), dtype=int)\n",
        "for i in range(sample_size):\n",
        "    X[i][1] = x[i]    \n",
        "#print(X)\n",
        "\n",
        "#Compute the pseudoinverse\n",
        "X_inv = linalg.pinv(X)\n",
        "\n",
        "#Find the weights\n",
        "w = dot(X_inv, y)\n",
        "print(w)"
      ],
      "execution_count": null,
      "outputs": [
        {
          "output_type": "stream",
          "name": "stdout",
          "text": [
            "[50.26832135  2.00015719]\n"
          ]
        }
      ]
    },
    {
      "cell_type": "markdown",
      "metadata": {
        "id": "LBC_XeUvXW_r"
      },
      "source": [
        "##3) Use gradient descent solution\n",
        "You will complete the code - this exercise is mainly so that you see the gradient descent behaviour.\n",
        "Remember that gradient descent requires a small enough learning rate so as not to diverge or oscilate.\n",
        "If learning rate is too large, you will see nan - Not a Number - due to overflow. If too small, it will not converge in the specified iterations. \n",
        "\n"
      ]
    },
    {
      "cell_type": "markdown",
      "metadata": {
        "id": "1E6GqGpVrTRc"
      },
      "source": [
        "#### Define Gradient Descent functions\n"
      ]
    },
    {
      "cell_type": "code",
      "metadata": {
        "id": "dcYFRXi-rTRY"
      },
      "source": [
        "#Compute the train set error with the current parameters\n",
        "def compute_cost(a, b, points):\n",
        "\n",
        "    N = len(points)\n",
        "    total_cost = 0\n",
        "  \n",
        "    for i in range(N):\n",
        "        x = points[i, 0]\n",
        "        y = points[i, 1]\n",
        "        total_cost += (1/N)*(y - (a*x+b))**2\n",
        "        \n",
        "    #Return average of squared error\n",
        "    return(total_cost)"
      ],
      "execution_count": null,
      "outputs": []
    },
    {
      "cell_type": "code",
      "metadata": {
        "id": "xgsn9KODrTRd"
      },
      "source": [
        "#Run gradient descent for the indicated number of iterations, with starting meta-parameters \n",
        "#You can use batch (there aren`t a lot of data points) or online/stochastic gradient descent\n",
        "\n",
        "def gradient_descent(starting_a, starting_b, points, learning_rate, num_iterations):\n",
        "    a = starting_a\n",
        "    b = starting_b\n",
        "\n",
        "    cost_graph = []\n",
        "\n",
        "    #For every iteration, optimize b, m and compute its cost\n",
        "    for i in range(num_iterations):\n",
        "        cost_graph.append(compute_cost(a, b, points))\n",
        "        a, b = one_step_gradientdescent(a, b, points, learning_rate)\n",
        "    a = round(a,4)\n",
        "    return([a, b, cost_graph])\n",
        "  \n",
        "  \n",
        "#-------------------------------------------------------------------------------  \n",
        "#Update the weights by using one iteration of gradient descent\n",
        "def one_step_gradientdescent(a_current, b_current, points, learning_rate):\n",
        "    a_gradient = 0\n",
        "    b_gradient = 0\n",
        "    N = len(points)\n",
        "    \n",
        "    #Calculate Gradient\n",
        "    for i in range(N):\n",
        "        x = points[i, 0]\n",
        "        y = points[i, 1]\n",
        "        a_gradient += (1/N) * (((a_current * x) + b_current) - y) * x \n",
        "        b_gradient += (1/N)*((a_current*x + b_current)-y)\n",
        "        \n",
        " \n",
        "    #Update current a and b\n",
        "    a_updated = a_current - (learning_rate * a_gradient)\n",
        "    b_updated = b_current - (learning_rate * b_gradient)\n",
        "\n",
        "    #Return updated parameters\n",
        "    return a_updated, b_updated"
      ],
      "execution_count": null,
      "outputs": []
    },
    {
      "cell_type": "markdown",
      "metadata": {
        "id": "SucjY5hBrTRi"
      },
      "source": [
        "#### Run gradient_descent() to get optimized parameters a and b"
      ]
    },
    {
      "cell_type": "code",
      "metadata": {
        "id": "s4bWwDpVrTRj"
      },
      "source": [
        "a, b, cost_graph = gradient_descent(initial_a, initial_b, points_data, learning_rate, num_iterations)\n"
      ],
      "execution_count": null,
      "outputs": []
    },
    {
      "cell_type": "markdown",
      "metadata": {
        "id": "aHPhz3-8dEu9"
      },
      "source": [
        "####Plot here the cost as a function of the iterations"
      ]
    },
    {
      "cell_type": "code",
      "metadata": {
        "scrolled": true,
        "id": "VxosasH3rTRn",
        "colab": {
          "base_uri": "https://localhost:8080/",
          "height": 295
        },
        "outputId": "f0aa27e5-4c7c-485b-b86c-9342c7b13415"
      },
      "source": [
        "plt.plot(cost_graph)\n",
        "plt.xlabel('No. of iterations')\n",
        "plt.ylabel('Cost')\n",
        "plt.title('Cost vs Iteration')\n",
        "plt.show()"
      ],
      "execution_count": null,
      "outputs": [
        {
          "output_type": "display_data",
          "data": {
            "text/plain": [
              "<Figure size 432x288 with 1 Axes>"
            ],
            "image/png": "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\n"
          },
          "metadata": {
            "needs_background": "light"
          }
        }
      ]
    },
    {
      "cell_type": "markdown",
      "metadata": {
        "id": "CHxKWvihrTRs"
      },
      "source": [
        "## Plot the fitted lines"
      ]
    },
    {
      "cell_type": "code",
      "metadata": {
        "id": "j8oFB6KrrTRt",
        "colab": {
          "base_uri": "https://localhost:8080/",
          "height": 295
        },
        "outputId": "361fb50b-4b43-45a4-9212-44acf6c01f8c"
      },
      "source": [
        "#Plot dataset\n",
        "\n",
        "plt.scatter(x, y)\n",
        "\n",
        "\n",
        "#Predict y values\n",
        "\n",
        "pred = a * x + b\n",
        "\n",
        "\n",
        "#Plot predictions as line of best fit\n",
        "\n",
        "plt.plot(x, pred, c='r')\n",
        "plt.xlabel('Ad budget')\n",
        "plt.ylabel('Sales')\n",
        "plt.title('Line of best fit')\n",
        "plt.show()"
      ],
      "execution_count": null,
      "outputs": [
        {
          "output_type": "display_data",
          "data": {
            "text/plain": [
              "<Figure size 432x288 with 1 Axes>"
            ],
            "image/png": "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\n"
          },
          "metadata": {
            "needs_background": "light"
          }
        }
      ]
    },
    {
      "cell_type": "markdown",
      "metadata": {
        "id": "S1ARaVNWarn_"
      },
      "source": [
        "##4) Call the NN implementation from the SciKit library##\n"
      ]
    },
    {
      "cell_type": "code",
      "metadata": {
        "id": "fLLyTxfga9bd"
      },
      "source": [
        "from sklearn.neural_network import MLPRegressor\n",
        "\n",
        "#https://scikit-learn.org/stable/modules/generated/sklearn.neural_network.MLPRegressor.html\n",
        "#from the Scikit manual pages:\n",
        "#class sklearn.neural_network.MLPRegressor(hidden_layer_sizes=(100, ), activation='relu', \n",
        "#solver='adam', alpha=0.0001, batch_size='auto', learning_rate='constant', learning_rate_init=0.001, \n",
        "#power_t=0.5, max_iter=200, shuffle=True, random_state=None, tol=0.0001, verbose=False, warm_start=False, \n",
        "#momentum=0.9, nesterovs_momentum=True, early_stopping=False, validation_fraction=0.1, beta_1=0.9, \n",
        "#beta_2=0.999, epsilon=1e-08, n_iter_no_change=10, max_fun=15000))\n",
        "\n",
        "#Although it is not mandatory, you can use GridSearch class from Scikit-learn (or write your own loop), if you want\n",
        "#to try out different hyperparameters (solver, learning_rate_init etc.) to see which combination results in the lowest error.\n",
        "\n",
        "nn = MLPRegressor(hidden_layer_sizes=(), activation='relu', \n",
        "solver='sgd', alpha=0.0, batch_size='auto', learning_rate='constant', learning_rate_init=0.0000001, \n",
        "power_t=0.0, max_iter=100000, shuffle=True, random_state=None, tol=0.0001, verbose=False, warm_start=False, \n",
        "momentum=0.0, nesterovs_momentum=True, early_stopping=False, validation_fraction=0.0, beta_1=0.0, \n",
        "beta_2=0.999, epsilon=1e-08, n_iter_no_change=10, max_fun=15000)\n",
        "nn.fit(x.reshape(-1, 1), y)\n",
        "\n",
        "nn.predict(x.reshape(-1, 1))\n",
        "\n",
        "score = nn.score(x.reshape(-1, 1), y)\n",
        "\n"
      ],
      "execution_count": null,
      "outputs": []
    },
    {
      "cell_type": "markdown",
      "metadata": {
        "id": "esKPwj2VrTRm"
      },
      "source": [
        "##Plot the found weights and the corresponding final error with the tested approaches"
      ]
    },
    {
      "cell_type": "code",
      "metadata": {
        "id": "U1AnFrlz-6a5",
        "colab": {
          "base_uri": "https://localhost:8080/"
        },
        "outputId": "fe56353b-6e67-4336-88cc-e3599344b764"
      },
      "source": [
        "#Print optimized parameters\n",
        "\n",
        "print(\"Scikit-Learn Solution Parameters:\\n\", \"Intercept:\", reg.intercept_, \"&\", \"Coefficient:\", reg.coef_[0], \"\\n\")\n",
        "\n",
        "print(\"Pseudo-Inverse Solution Parameters:\\n\", \"Intercept:\",  w[0], \"&\", \"Coefficient:\", w[1], \"\\n\")\n",
        "\n",
        "print(\"Gradient Descent Solution Parameters:\\n\", \"Intercept:\",  b, \"&\", \"Coefficient:\", a, \"\\n\")\n",
        "\n",
        "\n",
        "#print results for SciKitLearn NN as well\n",
        "print(\"SciKitLearn NN Solution Parameters:\\n\", \"Intercept:\",  nn.intercepts_, \"&\", \"Coefficient:\",  nn.coefs_[0], \"\\n\")\n",
        "\n",
        "\n",
        "#Print error with optimized parameters\n",
        "print(\"Scikit-Learn Solution Error:\", compute_cost(reg.coef_[0], reg.intercept_, points_data), \"\\n\")\n",
        "\n",
        "print(\"Pseudo-Inverse Solution Error:\", compute_cost(w[1], w[0], points_data), \"\\n\")\n",
        "\n",
        "print(\"Gradient Descent Solution Error:\", compute_cost(a, b, points_data), \"\\n\")\n",
        "\n",
        "\n",
        "#print error for SciKitLearn NN as well\n",
        "print(\"SciKitLearn NN Stochastic Learning Solution Error:\", compute_cost(nn.coefs_[0], nn.intercepts_, points_data), \"\\n\")\n"
      ],
      "execution_count": null,
      "outputs": [
        {
          "output_type": "stream",
          "name": "stdout",
          "text": [
            "Scikit-Learn Solution Parameters:\n",
            " Intercept: 50.26832135249606 & Coefficient: 2.000157193152058 \n",
            "\n",
            "Pseudo-Inverse Solution Parameters:\n",
            " Intercept: 50.2683213524962 & Coefficient: 2.0001571931520585 \n",
            "\n",
            "Gradient Descent Solution Parameters:\n",
            " Intercept: 1.03124905075092 & Coefficient: 2.0705 \n",
            "\n",
            "SciKitLearn NN Solution Parameters:\n",
            " Intercept: [array([1.66709996])] & Coefficient: [[2.0695077]] \n",
            "\n",
            "Scikit-Learn Solution Error: 32.062455998885405 \n",
            "\n",
            "Pseudo-Inverse Solution Error: 32.06245599888549 \n",
            "\n",
            "Gradient Descent Solution Error: 533.1496561014893 \n",
            "\n",
            "SciKitLearn NN Stochastic Learning Solution Error: [[520.29145887]] \n",
            "\n"
          ]
        }
      ]
    },
    {
      "cell_type": "markdown",
      "source": [
        "## Discussion\n",
        "\n",
        "Both SciKit-regression and Puedo-inverse produce the same results, however Gradient Descent produces varied results depending on learning rate and iteration. For the first two techniques, we get same intercept (b) and coefficient (a) and MSE for a random 100 point.\n",
        "\n",
        "For Batch Gradient Descent, the outcome diverges when the learning rate is 1e-5 or higher. After 100000 iterations, I got the below result at a learning rate of 1e-6. \n",
        "\n",
        "![Untitled.png](data:image/png;base64,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)\n",
        "\n",
        "\n",
        "When using Sci-Kit to build a comparable network using Stochastic GD, the findings diverge at learning rates of 1e-6 and higher. I applied method at a learning rate 1e-7.\n",
        "\n",
        "Gradient descent, as a result, takes successive steps in the direction of the minimum. If the step size (Learning rate) is too large, it may \"jump over\" the minima we are attempting to achieve, causing us to overshoot. This can result in osculation about the minimum or, in extreme circumstances, divergence. When the learning rate is too small, training is not only slower, but may become permanently stuck with a high training error.\n",
        "\n",
        "When examining the NN findings, \"a\" is close to that of the first two approaches, however this is the intercept that is far from the optimal ones. We may assume from the main GD learning equations that the equation accounting for training intercept \"b\" is weaker than that of \"a.\"  We come closer to the best solution by modifying the learning equation for b as shown below. When we changed the multiplier to 2000. The batch NN results are close to optimal ones:\n",
        "\n",
        "\n",
        "\n",
        "```\n",
        "# Update current a and b\n",
        "```\n",
        "    a_updated = a_current - (learning_rate * a_gradient)\n",
        "    b_updated = b_current - (2000 * learning_rate * b_gradient)\n",
        "\n",
        "\n",
        "In the case of y= ax + b, when we choose a and b very large (a=10000, b= 10000), we have worse MSE in GD and SciKit-Learn NN Stochastic method and worse Intercept in Scikit-Learn and Pseudo-Invers. Moreover, in all methods, we have worse coefficient.\n",
        "\n",
        "If we set a=2, b=10000, we see that the result worsens (we have larger MSE in GD and NN methods, and larger intercept for all methods. In NN method maximum iterations reached and the optimization hadn't converged.\n"
      ],
      "metadata": {
        "id": "sF22El-tE0r-"
      }
    }
  ]
}
